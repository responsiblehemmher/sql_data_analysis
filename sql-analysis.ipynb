{
 "cells": [
  {
   "cell_type": "code",
   "execution_count": 1,
   "id": "1c339369",
   "metadata": {},
   "outputs": [
    {
     "name": "stdout",
     "output_type": "stream",
     "text": [
      "Database created and connected successfully!\n"
     ]
    }
   ],
   "source": [
    "import sqlite3\n",
    "\n",
    "# Create a database (or connect if it already exists)\n",
    "conn = sqlite3.connect(\"my_database.db\")\n",
    "\n",
    "# Create a cursor object to interact with the database\n",
    "cursor = conn.cursor()\n",
    "\n",
    "# Check if the connection is successful\n",
    "print(\"Database created and connected successfully!\")"
   ]
  },
  {
   "cell_type": "code",
   "execution_count": 2,
   "id": "d2079dab",
   "metadata": {},
   "outputs": [
    {
     "name": "stdout",
     "output_type": "stream",
     "text": [
      "Database file exists: True\n"
     ]
    }
   ],
   "source": [
    "import os\n",
    "\n",
    "# Check if the database file exists\n",
    "print(\"Database file exists:\", os.path.exists(\"my_database.db\"))\n"
   ]
  },
  {
   "cell_type": "code",
   "execution_count": 3,
   "id": "3ca7cae6",
   "metadata": {},
   "outputs": [
    {
     "name": "stdout",
     "output_type": "stream",
     "text": [
      "Existing tables: [('employees',)]\n"
     ]
    }
   ],
   "source": [
    "#To check if there are any tables in my_database.db\n",
    "\n",
    "cursor.execute(\"SELECT name FROM sqlite_master WHERE type='table'\")\n",
    "print(\"Existing tables:\", cursor.fetchall())\n"
   ]
  },
  {
   "cell_type": "code",
   "execution_count": 4,
   "id": "6e2da546",
   "metadata": {},
   "outputs": [
    {
     "name": "stdout",
     "output_type": "stream",
     "text": [
      "Table created successfully!\n"
     ]
    }
   ],
   "source": [
    "# Create table\n",
    "cursor.execute(\"\"\"\n",
    "    CREATE TABLE IF NOT EXISTS employees (\n",
    "        id INTEGER PRIMARY KEY,\n",
    "        name TEXT,\n",
    "        age INTEGER,\n",
    "        department TEXT,\n",
    "        salary REAL\n",
    "    )\n",
    "\"\"\")\n",
    "\n",
    "conn.commit()  # Save changes\n",
    "print(\"Table created successfully!\")"
   ]
  },
  {
   "cell_type": "code",
   "execution_count": 5,
   "id": "3d9bad29",
   "metadata": {},
   "outputs": [],
   "source": [
    "#Insert Sample Data to the Table\n",
    "\n",
    "cursor.execute(\"INSERT INTO employees (name, age, department, salary) VALUES ('Alice', 30, 'HR', 50000)\")\n",
    "cursor.execute(\"INSERT INTO employees (name, age, department, salary) VALUES ('Bob', 25, 'IT', 60000)\")\n",
    "cursor.execute(\"INSERT INTO employees (name, age, department, salary) VALUES ('Charlie', 35, 'Finance', 70000)\")\n",
    "conn.commit()\n"
   ]
  },
  {
   "cell_type": "code",
   "execution_count": 6,
   "id": "6372a5c0",
   "metadata": {},
   "outputs": [
    {
     "name": "stdout",
     "output_type": "stream",
     "text": [
      "(1, 'Alice', 30, 'HR', 50000.0)\n",
      "(2, 'Bob', 25, 'IT', 60000.0)\n",
      "(3, 'Charlie', 35, 'Finance', 70000.0)\n",
      "(4, 'Alice', 30, 'HR', 50000.0)\n",
      "(5, 'Bob', 25, 'IT', 60000.0)\n",
      "(6, 'Charlie', 35, 'Finance', 70000.0)\n"
     ]
    }
   ],
   "source": [
    "#To Query the Data\n",
    "\n",
    "cursor.execute(\"SELECT * FROM employees\")\n",
    "rows = cursor.fetchall()\n",
    "\n",
    "# Display results\n",
    "for row in rows:\n",
    "    print(row)\n"
   ]
  },
  {
   "cell_type": "code",
   "execution_count": 9,
   "id": "17a3abf0",
   "metadata": {},
   "outputs": [
    {
     "name": "stdout",
     "output_type": "stream",
     "text": [
      "(6,)\n"
     ]
    }
   ],
   "source": [
    "# To perform common/basic SQL Queries Data Analysis using the same database created\n",
    "\n",
    "#1 To count the number of employees\n",
    "cursor.execute(\"SELECT COUNT(*) FROM employees\")\n",
    "print(cursor.fetchone())\n"
   ]
  },
  {
   "cell_type": "code",
   "execution_count": 10,
   "id": "9c037856",
   "metadata": {},
   "outputs": [
    {
     "name": "stdout",
     "output_type": "stream",
     "text": [
      "(60000.0,)\n"
     ]
    }
   ],
   "source": [
    "#2 To find the average salary\n",
    "cursor.execute(\"SELECT AVG(salary) FROM employees\")\n",
    "print(cursor.fetchone())\n"
   ]
  },
  {
   "cell_type": "code",
   "execution_count": 11,
   "id": "e86f528b",
   "metadata": {},
   "outputs": [
    {
     "name": "stdout",
     "output_type": "stream",
     "text": [
      "[(2, 'Bob', 25, 'IT', 60000.0), (5, 'Bob', 25, 'IT', 60000.0)]\n"
     ]
    }
   ],
   "source": [
    "#3 Lising the employees in the IT department\n",
    "cursor.execute(\"SELECT * FROM employees WHERE department = 'IT'\")\n",
    "print(cursor.fetchall())\n"
   ]
  },
  {
   "cell_type": "code",
   "execution_count": null,
   "id": "952b07c5",
   "metadata": {},
   "outputs": [],
   "source": []
  }
 ],
 "metadata": {
  "kernelspec": {
   "display_name": "Python 3 (ipykernel)",
   "language": "python",
   "name": "python3"
  },
  "language_info": {
   "codemirror_mode": {
    "name": "ipython",
    "version": 3
   },
   "file_extension": ".py",
   "mimetype": "text/x-python",
   "name": "python",
   "nbconvert_exporter": "python",
   "pygments_lexer": "ipython3",
   "version": "3.11.5"
  }
 },
 "nbformat": 4,
 "nbformat_minor": 5
}
